{
  "nbformat": 4,
  "nbformat_minor": 0,
  "metadata": {
    "colab": {
      "provenance": [],
      "include_colab_link": true
    },
    "kernelspec": {
      "name": "python3",
      "display_name": "Python 3"
    },
    "language_info": {
      "name": "python"
    }
  },
  "cells": [
    {
      "cell_type": "markdown",
      "metadata": {
        "id": "view-in-github",
        "colab_type": "text"
      },
      "source": [
        "<a href=\"https://colab.research.google.com/github/captain-khuman/music-recommendation-system/blob/main/music_recommendation_system.ipynb\" target=\"_parent\"><img src=\"https://colab.research.google.com/assets/colab-badge.svg\" alt=\"Open In Colab\"/></a>"
      ]
    },
    {
      "cell_type": "code",
      "source": [
        "import numpy as np\n",
        "import pandas as pd\n",
        "import matplotlib.pyplot as plt\n",
        "import seaborn as sb\n",
        "\n",
        "from sklearn.metrics.pairwise import cosine_similarity\n",
        "from sklearn.feature_extraction.text import CountVectorizer\n",
        "from sklearn.manifold import TSNE\n",
        "\n",
        "import warnings\n",
        "warnings.filterwarnings('ignore')\n"
      ],
      "metadata": {
        "id": "0SwJrknD8zZq"
      },
      "execution_count": null,
      "outputs": []
    },
    {
      "cell_type": "code",
      "source": [
        "tracks = pd.read_csv('musicrecords.csv')\n",
        "tracks2 = pd.read_csv('musicrecords.csv')\n",
        "tracks.head()\n"
      ],
      "metadata": {
        "colab": {
          "base_uri": "https://localhost:8080/",
          "height": 350
        },
        "id": "V5qCQFDJ87ku",
        "outputId": "49895851-a01f-41e9-a6b8-2bacef780a35"
      },
      "execution_count": null,
      "outputs": [
        {
          "output_type": "execute_result",
          "data": {
            "text/plain": [
              "   id                    name            artists               genres  \\\n",
              "0   1                 Sunrise        Norah Jones      adult standards   \n",
              "1   2             Black Night        Deep Purple           album rock   \n",
              "2   3          Clint Eastwood           Gorillaz  alternative hip hop   \n",
              "3   4           The Pretender       Foo Fighters    alternative metal   \n",
              "4   5  Waitin' On A Sunny Day  Bruce Springsteen         classic rock   \n",
              "\n",
              "   release_years duration_s  popularity  danceability  energy  loudness  \\\n",
              "0           2004        201          71            53      30       -14   \n",
              "1           2000        207          39            50      79       -11   \n",
              "2           2001        341          69            66      69        -9   \n",
              "3           2007        269          76            43      96        -4   \n",
              "4           2002        256          59            58      82        -5   \n",
              "\n",
              "   speechiness  acousticness  liveness  valence  tempo  \n",
              "0            3            94        11       68    157  \n",
              "1            7            17        17       81    135  \n",
              "2           17             2         7       52    168  \n",
              "3            4             0         3       37    173  \n",
              "4            3             1        10       87    106  "
            ],
            "text/html": [
              "\n",
              "  <div id=\"df-9a39293b-a5f8-487d-a235-7636a3467e9d\">\n",
              "    <div class=\"colab-df-container\">\n",
              "      <div>\n",
              "<style scoped>\n",
              "    .dataframe tbody tr th:only-of-type {\n",
              "        vertical-align: middle;\n",
              "    }\n",
              "\n",
              "    .dataframe tbody tr th {\n",
              "        vertical-align: top;\n",
              "    }\n",
              "\n",
              "    .dataframe thead th {\n",
              "        text-align: right;\n",
              "    }\n",
              "</style>\n",
              "<table border=\"1\" class=\"dataframe\">\n",
              "  <thead>\n",
              "    <tr style=\"text-align: right;\">\n",
              "      <th></th>\n",
              "      <th>id</th>\n",
              "      <th>name</th>\n",
              "      <th>artists</th>\n",
              "      <th>genres</th>\n",
              "      <th>release_years</th>\n",
              "      <th>duration_s</th>\n",
              "      <th>popularity</th>\n",
              "      <th>danceability</th>\n",
              "      <th>energy</th>\n",
              "      <th>loudness</th>\n",
              "      <th>speechiness</th>\n",
              "      <th>acousticness</th>\n",
              "      <th>liveness</th>\n",
              "      <th>valence</th>\n",
              "      <th>tempo</th>\n",
              "    </tr>\n",
              "  </thead>\n",
              "  <tbody>\n",
              "    <tr>\n",
              "      <th>0</th>\n",
              "      <td>1</td>\n",
              "      <td>Sunrise</td>\n",
              "      <td>Norah Jones</td>\n",
              "      <td>adult standards</td>\n",
              "      <td>2004</td>\n",
              "      <td>201</td>\n",
              "      <td>71</td>\n",
              "      <td>53</td>\n",
              "      <td>30</td>\n",
              "      <td>-14</td>\n",
              "      <td>3</td>\n",
              "      <td>94</td>\n",
              "      <td>11</td>\n",
              "      <td>68</td>\n",
              "      <td>157</td>\n",
              "    </tr>\n",
              "    <tr>\n",
              "      <th>1</th>\n",
              "      <td>2</td>\n",
              "      <td>Black Night</td>\n",
              "      <td>Deep Purple</td>\n",
              "      <td>album rock</td>\n",
              "      <td>2000</td>\n",
              "      <td>207</td>\n",
              "      <td>39</td>\n",
              "      <td>50</td>\n",
              "      <td>79</td>\n",
              "      <td>-11</td>\n",
              "      <td>7</td>\n",
              "      <td>17</td>\n",
              "      <td>17</td>\n",
              "      <td>81</td>\n",
              "      <td>135</td>\n",
              "    </tr>\n",
              "    <tr>\n",
              "      <th>2</th>\n",
              "      <td>3</td>\n",
              "      <td>Clint Eastwood</td>\n",
              "      <td>Gorillaz</td>\n",
              "      <td>alternative hip hop</td>\n",
              "      <td>2001</td>\n",
              "      <td>341</td>\n",
              "      <td>69</td>\n",
              "      <td>66</td>\n",
              "      <td>69</td>\n",
              "      <td>-9</td>\n",
              "      <td>17</td>\n",
              "      <td>2</td>\n",
              "      <td>7</td>\n",
              "      <td>52</td>\n",
              "      <td>168</td>\n",
              "    </tr>\n",
              "    <tr>\n",
              "      <th>3</th>\n",
              "      <td>4</td>\n",
              "      <td>The Pretender</td>\n",
              "      <td>Foo Fighters</td>\n",
              "      <td>alternative metal</td>\n",
              "      <td>2007</td>\n",
              "      <td>269</td>\n",
              "      <td>76</td>\n",
              "      <td>43</td>\n",
              "      <td>96</td>\n",
              "      <td>-4</td>\n",
              "      <td>4</td>\n",
              "      <td>0</td>\n",
              "      <td>3</td>\n",
              "      <td>37</td>\n",
              "      <td>173</td>\n",
              "    </tr>\n",
              "    <tr>\n",
              "      <th>4</th>\n",
              "      <td>5</td>\n",
              "      <td>Waitin' On A Sunny Day</td>\n",
              "      <td>Bruce Springsteen</td>\n",
              "      <td>classic rock</td>\n",
              "      <td>2002</td>\n",
              "      <td>256</td>\n",
              "      <td>59</td>\n",
              "      <td>58</td>\n",
              "      <td>82</td>\n",
              "      <td>-5</td>\n",
              "      <td>3</td>\n",
              "      <td>1</td>\n",
              "      <td>10</td>\n",
              "      <td>87</td>\n",
              "      <td>106</td>\n",
              "    </tr>\n",
              "  </tbody>\n",
              "</table>\n",
              "</div>\n",
              "      <button class=\"colab-df-convert\" onclick=\"convertToInteractive('df-9a39293b-a5f8-487d-a235-7636a3467e9d')\"\n",
              "              title=\"Convert this dataframe to an interactive table.\"\n",
              "              style=\"display:none;\">\n",
              "        \n",
              "  <svg xmlns=\"http://www.w3.org/2000/svg\" height=\"24px\"viewBox=\"0 0 24 24\"\n",
              "       width=\"24px\">\n",
              "    <path d=\"M0 0h24v24H0V0z\" fill=\"none\"/>\n",
              "    <path d=\"M18.56 5.44l.94 2.06.94-2.06 2.06-.94-2.06-.94-.94-2.06-.94 2.06-2.06.94zm-11 1L8.5 8.5l.94-2.06 2.06-.94-2.06-.94L8.5 2.5l-.94 2.06-2.06.94zm10 10l.94 2.06.94-2.06 2.06-.94-2.06-.94-.94-2.06-.94 2.06-2.06.94z\"/><path d=\"M17.41 7.96l-1.37-1.37c-.4-.4-.92-.59-1.43-.59-.52 0-1.04.2-1.43.59L10.3 9.45l-7.72 7.72c-.78.78-.78 2.05 0 2.83L4 21.41c.39.39.9.59 1.41.59.51 0 1.02-.2 1.41-.59l7.78-7.78 2.81-2.81c.8-.78.8-2.07 0-2.86zM5.41 20L4 18.59l7.72-7.72 1.47 1.35L5.41 20z\"/>\n",
              "  </svg>\n",
              "      </button>\n",
              "      \n",
              "  <style>\n",
              "    .colab-df-container {\n",
              "      display:flex;\n",
              "      flex-wrap:wrap;\n",
              "      gap: 12px;\n",
              "    }\n",
              "\n",
              "    .colab-df-convert {\n",
              "      background-color: #E8F0FE;\n",
              "      border: none;\n",
              "      border-radius: 50%;\n",
              "      cursor: pointer;\n",
              "      display: none;\n",
              "      fill: #1967D2;\n",
              "      height: 32px;\n",
              "      padding: 0 0 0 0;\n",
              "      width: 32px;\n",
              "    }\n",
              "\n",
              "    .colab-df-convert:hover {\n",
              "      background-color: #E2EBFA;\n",
              "      box-shadow: 0px 1px 2px rgba(60, 64, 67, 0.3), 0px 1px 3px 1px rgba(60, 64, 67, 0.15);\n",
              "      fill: #174EA6;\n",
              "    }\n",
              "\n",
              "    [theme=dark] .colab-df-convert {\n",
              "      background-color: #3B4455;\n",
              "      fill: #D2E3FC;\n",
              "    }\n",
              "\n",
              "    [theme=dark] .colab-df-convert:hover {\n",
              "      background-color: #434B5C;\n",
              "      box-shadow: 0px 1px 3px 1px rgba(0, 0, 0, 0.15);\n",
              "      filter: drop-shadow(0px 1px 2px rgba(0, 0, 0, 0.3));\n",
              "      fill: #FFFFFF;\n",
              "    }\n",
              "  </style>\n",
              "\n",
              "      <script>\n",
              "        const buttonEl =\n",
              "          document.querySelector('#df-9a39293b-a5f8-487d-a235-7636a3467e9d button.colab-df-convert');\n",
              "        buttonEl.style.display =\n",
              "          google.colab.kernel.accessAllowed ? 'block' : 'none';\n",
              "\n",
              "        async function convertToInteractive(key) {\n",
              "          const element = document.querySelector('#df-9a39293b-a5f8-487d-a235-7636a3467e9d');\n",
              "          const dataTable =\n",
              "            await google.colab.kernel.invokeFunction('convertToInteractive',\n",
              "                                                     [key], {});\n",
              "          if (!dataTable) return;\n",
              "\n",
              "          const docLinkHtml = 'Like what you see? Visit the ' +\n",
              "            '<a target=\"_blank\" href=https://colab.research.google.com/notebooks/data_table.ipynb>data table notebook</a>'\n",
              "            + ' to learn more about interactive tables.';\n",
              "          element.innerHTML = '';\n",
              "          dataTable['output_type'] = 'display_data';\n",
              "          await google.colab.output.renderOutput(dataTable, element);\n",
              "          const docLink = document.createElement('div');\n",
              "          docLink.innerHTML = docLinkHtml;\n",
              "          element.appendChild(docLink);\n",
              "        }\n",
              "      </script>\n",
              "    </div>\n",
              "  </div>\n",
              "  "
            ]
          },
          "metadata": {},
          "execution_count": 3
        }
      ]
    },
    {
      "cell_type": "code",
      "source": [
        "tracks.shape\n"
      ],
      "metadata": {
        "id": "5433z0ZD9AS5",
        "colab": {
          "base_uri": "https://localhost:8080/"
        },
        "outputId": "9cdc64e2-7b7c-44da-9aca-4c50e5ded7f4"
      },
      "execution_count": null,
      "outputs": [
        {
          "output_type": "execute_result",
          "data": {
            "text/plain": [
              "(1994, 15)"
            ]
          },
          "metadata": {},
          "execution_count": 4
        }
      ]
    },
    {
      "cell_type": "code",
      "source": [
        "tracks.info()\n"
      ],
      "metadata": {
        "id": "UoHuaEBk9Chr",
        "colab": {
          "base_uri": "https://localhost:8080/"
        },
        "outputId": "f1c91ae7-445c-449e-a40b-3e21cd94a825"
      },
      "execution_count": null,
      "outputs": [
        {
          "output_type": "stream",
          "name": "stdout",
          "text": [
            "<class 'pandas.core.frame.DataFrame'>\n",
            "RangeIndex: 1994 entries, 0 to 1993\n",
            "Data columns (total 15 columns):\n",
            " #   Column         Non-Null Count  Dtype \n",
            "---  ------         --------------  ----- \n",
            " 0   id             1994 non-null   int64 \n",
            " 1   name           1994 non-null   object\n",
            " 2   artists        1994 non-null   object\n",
            " 3   genres         1994 non-null   object\n",
            " 4   release_years  1994 non-null   int64 \n",
            " 5   duration_s     1994 non-null   object\n",
            " 6   popularity     1994 non-null   int64 \n",
            " 7   danceability   1994 non-null   int64 \n",
            " 8   energy         1994 non-null   int64 \n",
            " 9   loudness       1994 non-null   int64 \n",
            " 10  speechiness    1994 non-null   int64 \n",
            " 11  acousticness   1994 non-null   int64 \n",
            " 12  liveness       1994 non-null   int64 \n",
            " 13  valence        1994 non-null   int64 \n",
            " 14  tempo          1994 non-null   int64 \n",
            "dtypes: int64(11), object(4)\n",
            "memory usage: 233.8+ KB\n"
          ]
        }
      ]
    },
    {
      "cell_type": "code",
      "source": [
        "tracks.isnull().sum()\n"
      ],
      "metadata": {
        "id": "pmrQoHON9DNq",
        "colab": {
          "base_uri": "https://localhost:8080/"
        },
        "outputId": "2fa93e6a-7240-4872-c808-d1fab7347861"
      },
      "execution_count": null,
      "outputs": [
        {
          "output_type": "execute_result",
          "data": {
            "text/plain": [
              "id               0\n",
              "name             0\n",
              "artists          0\n",
              "genres           0\n",
              "release_years    0\n",
              "duration_s       0\n",
              "popularity       0\n",
              "danceability     0\n",
              "energy           0\n",
              "loudness         0\n",
              "speechiness      0\n",
              "acousticness     0\n",
              "liveness         0\n",
              "valence          0\n",
              "tempo            0\n",
              "dtype: int64"
            ]
          },
          "metadata": {},
          "execution_count": 6
        }
      ]
    },
    {
      "cell_type": "code",
      "source": [
        "tracks.dropna(inplace = True)\n",
        "tracks.isnull().sum().plot.bar()\n",
        "plt.show()\n"
      ],
      "metadata": {
        "id": "MBn8BRUS9FXQ",
        "colab": {
          "base_uri": "https://localhost:8080/",
          "height": 512
        },
        "outputId": "4a43f9a2-f623-402c-b8e8-d08e73c81c2a"
      },
      "execution_count": null,
      "outputs": [
        {
          "output_type": "display_data",
          "data": {
            "text/plain": [
              "<Figure size 640x480 with 1 Axes>"
            ],
            "image/png": "[encoded data removed]"
          },
          "metadata": {}
        }
      ]
    },
    {
      "cell_type": "code",
      "source": [
        "tracks.drop(tracks.iloc[:, 0:1], inplace=True, axis=1)\n",
        "tracks2.drop(tracks2.iloc[:, 0:4], inplace =True,axis=1)"
      ],
      "metadata": {
        "id": "_9B319SFUOZR"
      },
      "execution_count": null,
      "outputs": []
    },
    {
      "cell_type": "code",
      "source": [
        "tracks.info()\n",
        "tracks2.info()"
      ],
      "metadata": {
        "colab": {
          "base_uri": "https://localhost:8080/"
        },
        "id": "ETC0ukjyUGot",
        "outputId": "74f63483-1fe2-4718-bc22-b810b327c8b7"
      },
      "execution_count": null,
      "outputs": [
        {
          "output_type": "stream",
          "name": "stdout",
          "text": [
            "<class 'pandas.core.frame.DataFrame'>\n",
            "RangeIndex: 1994 entries, 0 to 1993\n",
            "Data columns (total 14 columns):\n",
            " #   Column         Non-Null Count  Dtype \n",
            "---  ------         --------------  ----- \n",
            " 0   name           1994 non-null   object\n",
            " 1   artists        1994 non-null   object\n",
            " 2   genres         1994 non-null   object\n",
            " 3   release_years  1994 non-null   int64 \n",
            " 4   duration_s     1994 non-null   object\n",
            " 5   popularity     1994 non-null   int64 \n",
            " 6   danceability   1994 non-null   int64 \n",
            " 7   energy         1994 non-null   int64 \n",
            " 8   loudness       1994 non-null   int64 \n",
            " 9   speechiness    1994 non-null   int64 \n",
            " 10  acousticness   1994 non-null   int64 \n",
            " 11  liveness       1994 non-null   int64 \n",
            " 12  valence        1994 non-null   int64 \n",
            " 13  tempo          1994 non-null   int64 \n",
            "dtypes: int64(10), object(4)\n",
            "memory usage: 218.2+ KB\n",
            "<class 'pandas.core.frame.DataFrame'>\n",
            "RangeIndex: 1994 entries, 0 to 1993\n",
            "Data columns (total 11 columns):\n",
            " #   Column         Non-Null Count  Dtype \n",
            "---  ------         --------------  ----- \n",
            " 0   release_years  1994 non-null   int64 \n",
            " 1   duration_s     1994 non-null   object\n",
            " 2   popularity     1994 non-null   int64 \n",
            " 3   danceability   1994 non-null   int64 \n",
            " 4   energy         1994 non-null   int64 \n",
            " 5   loudness       1994 non-null   int64 \n",
            " 6   speechiness    1994 non-null   int64 \n",
            " 7   acousticness   1994 non-null   int64 \n",
            " 8   liveness       1994 non-null   int64 \n",
            " 9   valence        1994 non-null   int64 \n",
            " 10  tempo          1994 non-null   int64 \n",
            "dtypes: int64(10), object(1)\n",
            "memory usage: 171.5+ KB\n"
          ]
        }
      ]
    },
    {
      "cell_type": "code",
      "source": [
        "model = TSNE(n_components = 2, random_state = 0)\n",
        "tsne_data = model.fit_transform(tracks2.head(500))\n",
        "plt.figure(figsize = (7, 7))\n",
        "plt.scatter(tsne_data[:,0], tsne_data[:,1])\n",
        "plt.show()\n",
        "\n",
        "\n",
        "\n"
      ],
      "metadata": {
        "id": "fbAgZMQ_9OO1",
        "colab": {
          "base_uri": "https://localhost:8080/",
          "height": 599
        },
        "outputId": "628e9037-fed9-4dd4-8f49-1c299e96dc25"
      },
      "execution_count": null,
      "outputs": [
        {
          "output_type": "display_data",
          "data": {
            "text/plain": [
              "<Figure size 700x700 with 1 Axes>"
            ],
            "image/png": "[encoded data removed]"
          },
          "metadata": {}
        }
      ]
    },
    {
      "cell_type": "code",
      "source": [
        "tracks['name'].nunique(), tracks.shape\n"
      ],
      "metadata": {
        "id": "a6DXr13a9PCt",
        "colab": {
          "base_uri": "https://localhost:8080/"
        },
        "outputId": "0fb8fed3-e3ec-4ca2-955f-00aa580c3bd6"
      },
      "execution_count": null,
      "outputs": [
        {
          "output_type": "execute_result",
          "data": {
            "text/plain": [
              "(1958, (1994, 14))"
            ]
          },
          "metadata": {},
          "execution_count": 11
        }
      ]
    },
    {
      "cell_type": "code",
      "source": [
        "tracks = tracks.sort_values(by=['popularity'], ascending=False)\n",
        "tracks.drop_duplicates(subset=['name'], keep='first', inplace=True)\n"
      ],
      "metadata": {
        "id": "qfrRpjwt9PtF"
      },
      "execution_count": null,
      "outputs": []
    },
    {
      "cell_type": "code",
      "source": [
        "tracks.info()"
      ],
      "metadata": {
        "colab": {
          "base_uri": "https://localhost:8080/"
        },
        "id": "KgiT0SanbZFX",
        "outputId": "3a08700a-7cf5-4058-a3fa-6884934529f5"
      },
      "execution_count": null,
      "outputs": [
        {
          "output_type": "stream",
          "name": "stdout",
          "text": [
            "<class 'pandas.core.frame.DataFrame'>\n",
            "Int64Index: 1958 entries, 793 to 1793\n",
            "Data columns (total 14 columns):\n",
            " #   Column         Non-Null Count  Dtype \n",
            "---  ------         --------------  ----- \n",
            " 0   name           1958 non-null   object\n",
            " 1   artists        1958 non-null   object\n",
            " 2   genres         1958 non-null   object\n",
            " 3   release_years  1958 non-null   int64 \n",
            " 4   duration_s     1958 non-null   object\n",
            " 5   popularity     1958 non-null   int64 \n",
            " 6   danceability   1958 non-null   int64 \n",
            " 7   energy         1958 non-null   int64 \n",
            " 8   loudness       1958 non-null   int64 \n",
            " 9   speechiness    1958 non-null   int64 \n",
            " 10  acousticness   1958 non-null   int64 \n",
            " 11  liveness       1958 non-null   int64 \n",
            " 12  valence        1958 non-null   int64 \n",
            " 13  tempo          1958 non-null   int64 \n",
            "dtypes: int64(10), object(4)\n",
            "memory usage: 229.5+ KB\n"
          ]
        }
      ]
    },
    {
      "cell_type": "code",
      "source": [
        "%%capture\n",
        "song_vectorizer = CountVectorizer()\n",
        "song_vectorizer.fit(tracks['genres'])\n"
      ],
      "metadata": {
        "id": "F58ZV_MF9PXN"
      },
      "execution_count": null,
      "outputs": []
    },
    {
      "cell_type": "code",
      "source": [
        "def get_similarities(song_name, data):\n",
        "\n",
        "# Getting vector for the input song.\n",
        "\t\ttext_array1 = song_vectorizer.transform(data[data['name']==song_name]['genres']).toarray()\n",
        "\t\tnum_array1 = data[data['name']==song_name].select_dtypes(include=np.number).to_numpy()\n",
        "\n",
        "\t\t# We will store similarity for each row of the dataset.\n",
        "\t\tsim = []\n",
        "\t\tfor idx, row in data.iterrows():\n",
        "\t\t\tname = row['name']\n",
        "\n",
        "\t\t\t# Getting vector for current song.\n",
        "\t\t\ttext_array2 = song_vectorizer.transform(data[data['name']==name]['genres']).toarray()\n",
        "\t\t\tnum_array2 = data[data['name']==name].select_dtypes(include=np.number).to_numpy()\n",
        "\n",
        "\t\t\t# Calculating similarities for text as well as numeric features\n",
        "\t\t\ttext_sim = cosine_similarity(text_array1, text_array2)[0][0]\n",
        "\t\t\tnum_sim = cosine_similarity(num_array1, num_array2)[0][0]\n",
        "\t\t\tsim.append(text_sim + num_sim)\n",
        "\n",
        "\t\treturn sim\n"
      ],
      "metadata": {
        "id": "skrK5LgZ9g7C"
      },
      "execution_count": null,
      "outputs": []
    },
    {
      "cell_type": "code",
      "source": [
        "def recommend_songs(song_name, data=tracks):\n",
        "  # Base case\n",
        "  if tracks[tracks['name'] == song_name].shape[0] == 0:\n",
        "    print('This song is either not so popular or you\\\n",
        "    have entered invalid_name.\\n Some songs you may like:\\n')\n",
        "\n",
        "    for song in data.sample(n=7)['name'].values:\n",
        "      print(song)\n",
        "    return\n",
        "\n",
        "  data['similarity_factor'] = get_similarities(song_name, data)\n",
        "\n",
        "  data.sort_values(by=['similarity_factor', 'popularity'],\n",
        "                   ascending = [False, False],\n",
        "                   inplace=True)\n",
        "\n",
        "  # First song will be the input song itself as the similarity will be highest.\n",
        "  display(data[['name', 'artists']][2:9])"
      ],
      "metadata": {
        "id": "UEDsIB9e9g4b"
      },
      "execution_count": null,
      "outputs": []
    },
    {
      "cell_type": "code",
      "source": [
        "\n",
        "recommend_songs('Despacito')"
      ],
      "metadata": {
        "id": "DU587pZh9g2J",
        "colab": {
          "base_uri": "https://localhost:8080/",
          "height": 266
        },
        "outputId": "9293a9c4-80d5-4b76-9b5c-d7a434c4c15e"
      },
      "execution_count": null,
      "outputs": [
        {
          "output_type": "display_data",
          "data": {
            "text/plain": [
              "                                            name                       artists\n",
              "63                                  Me Gustas Tu                     Manu Chao\n",
              "1730                                   Chan Chan       Buena Vista Social Club\n",
              "572               Happy - From \"Despicable Me 2\"             Pharrell Williams\n",
              "1955                             Bad Moon Rising  Creedence Clearwater Revival\n",
              "1241                          I'm Still Standing                    Elton John\n",
              "110               Waiting On the World to Change                    John Mayer\n",
              "1837  I Saw Her Standing There - Remastered 2009                   The Beatles"
            ],
            "text/html": [
              "\n",
              "  <div id=\"df-ee0e3cfd-7ba1-4978-8e80-284e9cf2536e\">\n",
              "    <div class=\"colab-df-container\">\n",
              "      <div>\n",
              "<style scoped>\n",
              "    .dataframe tbody tr th:only-of-type {\n",
              "        vertical-align: middle;\n",
              "    }\n",
              "\n",
              "    .dataframe tbody tr th {\n",
              "        vertical-align: top;\n",
              "    }\n",
              "\n",
              "    .dataframe thead th {\n",
              "        text-align: right;\n",
              "    }\n",
              "</style>\n",
              "<table border=\"1\" class=\"dataframe\">\n",
              "  <thead>\n",
              "    <tr style=\"text-align: right;\">\n",
              "      <th></th>\n",
              "      <th>name</th>\n",
              "      <th>artists</th>\n",
              "    </tr>\n",
              "  </thead>\n",
              "  <tbody>\n",
              "    <tr>\n",
              "      <th>63</th>\n",
              "      <td>Me Gustas Tu</td>\n",
              "      <td>Manu Chao</td>\n",
              "    </tr>\n",
              "    <tr>\n",
              "      <th>1730</th>\n",
              "      <td>Chan Chan</td>\n",
              "      <td>Buena Vista Social Club</td>\n",
              "    </tr>\n",
              "    <tr>\n",
              "      <th>572</th>\n",
              "      <td>Happy - From \"Despicable Me 2\"</td>\n",
              "      <td>Pharrell Williams</td>\n",
              "    </tr>\n",
              "    <tr>\n",
              "      <th>1955</th>\n",
              "      <td>Bad Moon Rising</td>\n",
              "      <td>Creedence Clearwater Revival</td>\n",
              "    </tr>\n",
              "    <tr>\n",
              "      <th>1241</th>\n",
              "      <td>I'm Still Standing</td>\n",
              "      <td>Elton John</td>\n",
              "    </tr>\n",
              "    <tr>\n",
              "      <th>110</th>\n",
              "      <td>Waiting On the World to Change</td>\n",
              "      <td>John Mayer</td>\n",
              "    </tr>\n",
              "    <tr>\n",
              "      <th>1837</th>\n",
              "      <td>I Saw Her Standing There - Remastered 2009</td>\n",
              "      <td>The Beatles</td>\n",
              "    </tr>\n",
              "  </tbody>\n",
              "</table>\n",
              "</div>\n",
              "      <button class=\"colab-df-convert\" onclick=\"convertToInteractive('df-ee0e3cfd-7ba1-4978-8e80-284e9cf2536e')\"\n",
              "              title=\"Convert this dataframe to an interactive table.\"\n",
              "              style=\"display:none;\">\n",
              "        \n",
              "  <svg xmlns=\"http://www.w3.org/2000/svg\" height=\"24px\"viewBox=\"0 0 24 24\"\n",
              "       width=\"24px\">\n",
              "    <path d=\"M0 0h24v24H0V0z\" fill=\"none\"/>\n",
              "    <path d=\"M18.56 5.44l.94 2.06.94-2.06 2.06-.94-2.06-.94-.94-2.06-.94 2.06-2.06.94zm-11 1L8.5 8.5l.94-2.06 2.06-.94-2.06-.94L8.5 2.5l-.94 2.06-2.06.94zm10 10l.94 2.06.94-2.06 2.06-.94-2.06-.94-.94-2.06-.94 2.06-2.06.94z\"/><path d=\"M17.41 7.96l-1.37-1.37c-.4-.4-.92-.59-1.43-.59-.52 0-1.04.2-1.43.59L10.3 9.45l-7.72 7.72c-.78.78-.78 2.05 0 2.83L4 21.41c.39.39.9.59 1.41.59.51 0 1.02-.2 1.41-.59l7.78-7.78 2.81-2.81c.8-.78.8-2.07 0-2.86zM5.41 20L4 18.59l7.72-7.72 1.47 1.35L5.41 20z\"/>\n",
              "  </svg>\n",
              "      </button>\n",
              "      \n",
              "  <style>\n",
              "    .colab-df-container {\n",
              "      display:flex;\n",
              "      flex-wrap:wrap;\n",
              "      gap: 12px;\n",
              "    }\n",
              "\n",
              "    .colab-df-convert {\n",
              "      background-color: #E8F0FE;\n",
              "      border: none;\n",
              "      border-radius: 50%;\n",
              "      cursor: pointer;\n",
              "      display: none;\n",
              "      fill: #1967D2;\n",
              "      height: 32px;\n",
              "      padding: 0 0 0 0;\n",
              "      width: 32px;\n",
              "    }\n",
              "\n",
              "    .colab-df-convert:hover {\n",
              "      background-color: #E2EBFA;\n",
              "      box-shadow: 0px 1px 2px rgba(60, 64, 67, 0.3), 0px 1px 3px 1px rgba(60, 64, 67, 0.15);\n",
              "      fill: #174EA6;\n",
              "    }\n",
              "\n",
              "    [theme=dark] .colab-df-convert {\n",
              "      background-color: #3B4455;\n",
              "      fill: #D2E3FC;\n",
              "    }\n",
              "\n",
              "    [theme=dark] .colab-df-convert:hover {\n",
              "      background-color: #434B5C;\n",
              "      box-shadow: 0px 1px 3px 1px rgba(0, 0, 0, 0.15);\n",
              "      filter: drop-shadow(0px 1px 2px rgba(0, 0, 0, 0.3));\n",
              "      fill: #FFFFFF;\n",
              "    }\n",
              "  </style>\n",
              "\n",
              "      <script>\n",
              "        const buttonEl =\n",
              "          document.querySelector('#df-ee0e3cfd-7ba1-4978-8e80-284e9cf2536e button.colab-df-convert');\n",
              "        buttonEl.style.display =\n",
              "          google.colab.kernel.accessAllowed ? 'block' : 'none';\n",
              "\n",
              "        async function convertToInteractive(key) {\n",
              "          const element = document.querySelector('#df-ee0e3cfd-7ba1-4978-8e80-284e9cf2536e');\n",
              "          const dataTable =\n",
              "            await google.colab.kernel.invokeFunction('convertToInteractive',\n",
              "                                                     [key], {});\n",
              "          if (!dataTable) return;\n",
              "\n",
              "          const docLinkHtml = 'Like what you see? Visit the ' +\n",
              "            '<a target=\"_blank\" href=https://colab.research.google.com/notebooks/data_table.ipynb>data table notebook</a>'\n",
              "            + ' to learn more about interactive tables.';\n",
              "          element.innerHTML = '';\n",
              "          dataTable['output_type'] = 'display_data';\n",
              "          await google.colab.output.renderOutput(dataTable, element);\n",
              "          const docLink = document.createElement('div');\n",
              "          docLink.innerHTML = docLinkHtml;\n",
              "          element.appendChild(docLink);\n",
              "        }\n",
              "      </script>\n",
              "    </div>\n",
              "  </div>\n",
              "  "
            ]
          },
          "metadata": {}
        }
      ]
    }
  ]
}